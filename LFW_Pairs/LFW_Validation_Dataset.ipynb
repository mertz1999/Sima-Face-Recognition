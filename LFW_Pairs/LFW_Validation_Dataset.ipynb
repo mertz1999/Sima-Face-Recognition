{
  "nbformat": 4,
  "nbformat_minor": 0,
  "metadata": {
    "colab": {
      "name": "LFW-Validation-Dataset.ipynb",
      "provenance": [],
      "collapsed_sections": []
    },
    "kernelspec": {
      "name": "python3",
      "display_name": "Python 3"
    },
    "language_info": {
      "name": "python"
    }
  },
  "cells": [
    {
      "cell_type": "code",
      "metadata": {
        "id": "4_MtmV0aRIG0"
      },
      "source": [
        "# --- Sources\n",
        "# http://vis-www.cs.umass.edu/lfw/\n"
      ],
      "execution_count": null,
      "outputs": []
    },
    {
      "cell_type": "code",
      "metadata": {
        "id": "FC6DPA05QYsn"
      },
      "source": [
        "# --- import \n",
        "import os\n",
        "import numpy as np"
      ],
      "execution_count": null,
      "outputs": []
    },
    {
      "cell_type": "code",
      "metadata": {
        "id": "fhqOUFPwQbI1"
      },
      "source": [
        "# --- Download LFW Dataset and test pairs\n",
        "!wget http://vis-www.cs.umass.edu/lfw/lfw-deepfunneled.tgz\n",
        "!wget http://vis-www.cs.umass.edu/lfw/pairsDevTest.txt\n",
        "\n",
        "!tar -xvzf lfw-deepfunneled.tgz\n"
      ],
      "execution_count": null,
      "outputs": []
    },
    {
      "cell_type": "code",
      "metadata": {
        "colab": {
          "base_uri": "https://localhost:8080/"
        },
        "id": "x2zR4lC9QW6U",
        "outputId": "bb644d1a-aece-4fde-9a83-79b22fc82374"
      },
      "source": [
        "# --- Make Pairs from pairsDevTest.txt\n",
        "\n",
        "# --- 1. Read Text file\n",
        "lfw_pairs = []\n",
        "with open('pairsDevTest.txt') as f:\n",
        "    lines = f.readlines()\n",
        "    for idx, line in enumerate(lines):\n",
        "      if idx != 0:\n",
        "        lfw_pairs.append(line[0:-1].split('\\t'))\n",
        "\n",
        "# --- 2. Make Pairs with image path\n",
        "lfw_pairs_path = []\n",
        "for pair in lfw_pairs:\n",
        "  p_size = len(pair)\n",
        "  # --- Matched pair\n",
        "  if p_size == 3:\n",
        "    images = os.listdir(\"./lfw-deepfunneled/\"+pair[0])\n",
        "    temp = {'pair_one' : \"./lfw-deepfunneled/\"+pair[0]+\"/\"+images[int(pair[1])-1],\n",
        "            'pair_two' : \"./lfw-deepfunneled/\"+pair[0]+\"/\"+images[int(pair[2])-1],\n",
        "            'matched'  : 1}\n",
        "    lfw_pairs_path.append(temp)\n",
        "  # --- un-Matched pair\n",
        "  elif p_size == 4:\n",
        "    images_one = os.listdir(\"./lfw-deepfunneled/\"+pair[0])\n",
        "    images_two = os.listdir(\"./lfw-deepfunneled/\"+pair[2])\n",
        "    temp = {'pair_one' : \"./lfw-deepfunneled/\"+pair[0]+\"/\"+images_one[int(pair[1])-1],\n",
        "            'pair_two' : \"./lfw-deepfunneled/\"+pair[2]+\"/\"+images_two[int(pair[3])-1],\n",
        "            'matched'  : 0}\n",
        "    lfw_pairs_path.append(temp)\n",
        "\n",
        "# --- 3. Test Pairs path\n",
        "lfw_pairs_path[700]"
      ],
      "execution_count": null,
      "outputs": [
        {
          "output_type": "execute_result",
          "data": {
            "text/plain": [
              "{'matched': 0,\n",
              " 'pair_one': './lfw-deepfunneled/David_Shayler/David_Shayler_0001.jpg',\n",
              " 'pair_two': './lfw-deepfunneled/Peter_Mullan/Peter_Mullan_0001.jpg'}"
            ]
          },
          "metadata": {},
          "execution_count": 4
        }
      ]
    },
    {
      "cell_type": "code",
      "metadata": {
        "id": "ljR3LYj8QXun"
      },
      "source": [
        "# --- Save this pairs path to .npy file and load it in training loop\n",
        "lfw_pairs_path = np.array(lfw_pairs_path)\n",
        "\n",
        "np.save('lfw_pairs_path.npy', lfw_pairs_path)"
      ],
      "execution_count": null,
      "outputs": []
    },
    {
      "cell_type": "code",
      "metadata": {
        "colab": {
          "base_uri": "https://localhost:8080/",
          "height": 163
        },
        "id": "kR1g6t5OSaYb",
        "outputId": "f21d7d99-65d6-4486-cf93-e41f9af1f1e6"
      },
      "source": [
        "a[700]['matched']"
      ],
      "execution_count": null,
      "outputs": [
        {
          "output_type": "error",
          "ename": "NameError",
          "evalue": "ignored",
          "traceback": [
            "\u001b[0;31m---------------------------------------------------------------------------\u001b[0m",
            "\u001b[0;31mNameError\u001b[0m                                 Traceback (most recent call last)",
            "\u001b[0;32m<ipython-input-6-b3a47f1c948e>\u001b[0m in \u001b[0;36m<module>\u001b[0;34m()\u001b[0m\n\u001b[0;32m----> 1\u001b[0;31m \u001b[0ma\u001b[0m\u001b[0;34m[\u001b[0m\u001b[0;36m700\u001b[0m\u001b[0;34m]\u001b[0m\u001b[0;34m[\u001b[0m\u001b[0;34m'matched'\u001b[0m\u001b[0;34m]\u001b[0m\u001b[0;34m\u001b[0m\u001b[0;34m\u001b[0m\u001b[0m\n\u001b[0m",
            "\u001b[0;31mNameError\u001b[0m: name 'a' is not defined"
          ]
        }
      ]
    },
    {
      "cell_type": "code",
      "metadata": {
        "colab": {
          "base_uri": "https://localhost:8080/"
        },
        "id": "OYFBLVrGXGdj",
        "outputId": "b4eadaad-e421-47bc-b888-a68d918091c6"
      },
      "source": [
        "np.load('lfw_pairs_path.npy', allow_pickle=True)[700]"
      ],
      "execution_count": null,
      "outputs": [
        {
          "output_type": "execute_result",
          "data": {
            "text/plain": [
              "{'matched': 0,\n",
              " 'pair_one': './lfw-deepfunneled/David_Shayler/David_Shayler_0001.jpg',\n",
              " 'pair_two': './lfw-deepfunneled/Peter_Mullan/Peter_Mullan_0001.jpg'}"
            ]
          },
          "metadata": {},
          "execution_count": 7
        }
      ]
    },
    {
      "cell_type": "code",
      "metadata": {
        "id": "Kc0F-KPSfJBj"
      },
      "source": [
        ""
      ],
      "execution_count": null,
      "outputs": []
    }
  ]
}