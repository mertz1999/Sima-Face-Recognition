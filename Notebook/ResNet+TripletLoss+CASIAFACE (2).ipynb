{
  "cells": [
    {
      "cell_type": "markdown",
      "metadata": {
        "id": "5rvwhhKu09yf"
      },
      "source": [
        "## Load Python Packages\n"
      ]
    },
    {
      "cell_type": "code",
      "execution_count": null,
      "metadata": {
        "id": "dtlUChqXFyKd"
      },
      "outputs": [],
      "source": [
        "# --- load packages\n",
        "import torch\n",
        "import torch.nn as nn\n",
        "import torch.optim as optim\n",
        "from torch.optim import lr_scheduler\n",
        "from torch.nn.modules.distance import PairwiseDistance\n",
        "from torch.utils.data import Dataset\n",
        "from torchvision import transforms\n",
        "from torchsummary import summary\n",
        "from torch.cuda.amp import GradScaler, autocast\n",
        "from torch.nn import functional as F\n",
        "\n",
        "\n",
        "import time\n",
        "from collections import OrderedDict\n",
        "import numpy as np\n",
        "import os\n",
        "from skimage import io\n",
        "from PIL import Image\n",
        "import cv2\n",
        "import matplotlib.pyplot as plt\n"
      ]
    },
    {
      "cell_type": "markdown",
      "metadata": {
        "id": "OczsCHs-1KlQ"
      },
      "source": [
        "## Set parameters"
      ]
    },
    {
      "cell_type": "code",
      "execution_count": null,
      "metadata": {
        "id": "fmZ7_4FNRvDG"
      },
      "outputs": [],
      "source": [
        "# --- Set all Parameters\n",
        "DatasetFolder = \"./CASIA-WebFace\"  # path to Dataset folder\n",
        "ResNet_sel = \"18\"                  # select ResNet type\n",
        "NumberID = 10575                   # Number of ID in dataset \n",
        "batch_size = 256                   # size of batch size\n",
        "Triplet_size = 10000 * batch_size  # size of total Triplets\n",
        "device = torch.device('cuda:0' if torch.cuda.is_available() else 'cpu')\n",
        "loss_margin = 0.6                  # Margin for Triplet loss\n",
        "learning_rate = 0.075              # choose Learning Rate(note that this value will be change during training)\n",
        "epochs = 200                       # number of iteration over total dataset\n"
      ]
    },
    {
      "cell_type": "markdown",
      "metadata": {
        "id": "d87k5QG91Pxn"
      },
      "source": [
        "## Download Datasets\n",
        "#### In this section we download CASIA-WebFace and LFW-Dataset\n",
        "#### we use CAISA-WebFace for Training and LFW for Evaluation"
      ]
    },
    {
      "cell_type": "code",
      "execution_count": null,
      "metadata": {
        "id": "rzFRzcjyRKHL"
      },
      "outputs": [],
      "source": [
        "# --- Download CASIA-WebFace Dataset\n",
        "print(40*\"=\" + \" Download CASIA WebFace \" + 40*'=')\n",
        "! gdown --id 1Of_EVz-yHV7QVWQGihYfvtny9Ne8qXVz\n",
        "! unzip CASIA-WebFace.zip\n",
        "! rm CASIA-WebFace.zip\n",
        "\n",
        "# --- Download LFW Dataset\n",
        "print(40*\"=\" + \" Download LFW \" + 40*'=')\n",
        "! wget http://vis-www.cs.umass.edu/lfw/lfw-deepfunneled.tgz\n",
        "! tar -xvzf lfw-deepfunneled.tgz\n",
        "! rm lfw-deepfunneled.tgz"
      ]
    },
    {
      "cell_type": "markdown",
      "metadata": {
        "id": "y0g7PWjD1pe5"
      },
      "source": [
        "# Define ResNet Parts\n",
        "#### 1. Residual block\n",
        "#### 2. Make ResNet by Prv. block"
      ]
    },
    {
      "cell_type": "code",
      "execution_count": null,
      "metadata": {
        "id": "WKAiYM-HLkqn"
      },
      "outputs": [],
      "source": [
        "# --- Residual block\n",
        "class ResidualBlock(nn.Module):\n",
        "  def __init__(self, in_channels, out_channels, downsample=1):\n",
        "    super().__init__()\n",
        "    # --- Variables\n",
        "    self.in_channels = in_channels\n",
        "    self.out_channels = out_channels\n",
        "    self.downsample = downsample\n",
        "\n",
        "    # --- Residual parts\n",
        "    # --- Conv part\n",
        "    self.blocks = nn.Sequential(OrderedDict(\n",
        "        {\n",
        "            # --- First Conv\n",
        "            'conv1' : nn.Conv2d(self.in_channels, self.out_channels, kernel_size=3, stride=self.downsample, padding=1, bias=False),\n",
        "            'bn1'   : nn.BatchNorm2d(self.out_channels),\n",
        "            'Relu1' : nn.ReLU(),\n",
        "         \n",
        "            # --- Secound Conv\n",
        "            'conv2' : nn.Conv2d(self.out_channels, self.out_channels, kernel_size=3, stride=1, padding=1, bias=False),\n",
        "            'bn2'   : nn.BatchNorm2d(self.out_channels)\n",
        "        }\n",
        "    ))\n",
        "    # --- shortcut part\n",
        "    self.shortcut = nn.Sequential(OrderedDict(\n",
        "        {\n",
        "            'conv' : nn.Conv2d(self.in_channels, self.out_channels, kernel_size=1, stride=self.downsample, bias=False),\n",
        "            'bn'   : nn.BatchNorm2d(self.out_channels)\n",
        "        }\n",
        "    ))\n",
        "  \n",
        "  def forward(self, x):\n",
        "    residual = x\n",
        "    if (self.in_channels != self.out_channels) : residual = self.shortcut(x)\n",
        "    x = self.blocks(x)\n",
        "    x += residual\n",
        "    return x\n",
        "\n",
        "\n",
        "\n"
      ]
    },
    {
      "cell_type": "code",
      "execution_count": null,
      "metadata": {
        "id": "tZmtQM6cTL_Z"
      },
      "outputs": [],
      "source": [
        "# # --- Test Residual block\n",
        "# dummy = torch.ones((1, 32, 140, 140))\n",
        "\n",
        "# block = ResidualBlock(32, 64)\n",
        "# block(dummy).shape\n",
        "# print(block)\n"
      ]
    },
    {
      "cell_type": "code",
      "execution_count": null,
      "metadata": {
        "id": "KqisIePXTSRx"
      },
      "outputs": [],
      "source": [
        "# --- Make ResNet18\n",
        "class ResNet18(nn.Module):\n",
        "  def __init__(self):\n",
        "    super().__init__()\n",
        "\n",
        "    # --- Pre layers with 7*7 conv with stride2 and a max-pooling\n",
        "    self.PreBlocks = nn.Sequential(\n",
        "        nn.Conv2d(3, 64, kernel_size=7, padding=3, stride=2, bias=False),\n",
        "        nn.BatchNorm2d(64),\n",
        "        nn.ReLU(),\n",
        "        nn.MaxPool2d(kernel_size=3, stride=2, padding=1)\n",
        "    )\n",
        "\n",
        "    # --- Define all Residual Blocks here\n",
        "    self.CoreBlocka = nn.Sequential(\n",
        "        ResidualBlock(64,64 ,downsample=1),\n",
        "        ResidualBlock(64,64 ,downsample=1),\n",
        "        # ResidualBlock(64,64 ,downsample=1),\n",
        "\n",
        "        ResidualBlock(64,128 ,downsample=2),\n",
        "        ResidualBlock(128,128 ,downsample=1),\n",
        "        # ResidualBlock(128,128 ,downsample=1),\n",
        "        # ResidualBlock(128,128 ,downsample=1),\n",
        "\n",
        "        ResidualBlock(128,256 ,downsample=2),\n",
        "        ResidualBlock(256,256 ,downsample=1),\n",
        "        # ResidualBlock(256,256 ,downsample=1),\n",
        "        # ResidualBlock(256,256 ,downsample=1),\n",
        "        # ResidualBlock(256,256 ,downsample=1),\n",
        "        # ResidualBlock(256,256 ,downsample=1),\n",
        "\n",
        "        ResidualBlock(256,512 ,downsample=2),\n",
        "        ResidualBlock(512,512 ,downsample=1),\n",
        "        # ResidualBlock(512,512 ,downsample=1)\n",
        "    )\n",
        "\n",
        "    # --- Make Average pooling\n",
        "    self.avg = nn.AdaptiveAvgPool2d((1,1))\n",
        "\n",
        "    # --- FC layer for output\n",
        "    self.fc = nn.Linear(512, 512, bias=False)\n",
        "\n",
        "  def forward(self, x):\n",
        "    x = self.PreBlocks(x)\n",
        "    x = self.CoreBlocka(x)\n",
        "    x = self.avg(x)\n",
        "    x = x.view(x.size(0), -1)\n",
        "    x = self.fc(x)\n",
        "    x = F.normalize(x, p=2, dim=1)\n",
        "    return x"
      ]
    },
    {
      "cell_type": "code",
      "execution_count": null,
      "metadata": {
        "id": "w28hiEFaTxrB"
      },
      "outputs": [],
      "source": [
        "# dummy = torch.ones((1, 3, 114, 144))\n",
        "model = ResNet18()\n",
        "# model\n",
        "# res = model(dummy)\n",
        "\n",
        "model.to(device)\n",
        "summary(model, (3, 114, 114))\n",
        "del model"
      ]
    },
    {
      "cell_type": "markdown",
      "metadata": {
        "id": "v-pLtZni15ru"
      },
      "source": [
        "# Make TripletLoss Class "
      ]
    },
    {
      "cell_type": "code",
      "execution_count": null,
      "metadata": {
        "id": "chdPWwbpTxtO"
      },
      "outputs": [],
      "source": [
        "# --- Triplet loss\n",
        "\"\"\"\n",
        "    This code was imported from tbmoon's 'facenet' repository:\n",
        "    https://github.com/tbmoon/facenet/blob/master/utils.py\n",
        "    \n",
        "\"\"\"\n",
        "\n",
        "import torch\n",
        "from torch.autograd import Function\n",
        "from torch.nn.modules.distance import PairwiseDistance\n",
        "\n",
        "\n",
        "class TripletLoss(Function):\n",
        "    def __init__(self, margin):\n",
        "        super(TripletLoss, self).__init__()\n",
        "        self.margin = margin\n",
        "        self.pdist = PairwiseDistance(p=2)\n",
        "\n",
        "    def forward(self, anchor, positive, negative):\n",
        "        pos_dist = self.pdist.forward(anchor, positive)\n",
        "        neg_dist = self.pdist.forward(anchor, negative)\n",
        "        hinge_dist = torch.clamp(self.margin + pos_dist - neg_dist, min=0.0)\n",
        "        loss = torch.mean(hinge_dist)\n",
        "        # print(torch.mean(pos_dist).item(), torch.mean(neg_dist).item(), loss.item())\n",
        "        # print(\"pos_dist\", pos_dist)\n",
        "        # print(\"neg_dist\", neg_dist)\n",
        "        # print(self.margin + pos_dist - neg_dist)\n",
        "        return loss\n"
      ]
    },
    {
      "cell_type": "markdown",
      "metadata": {
        "id": "2Jb4saFVP--_"
      },
      "source": [
        "# Make Triplet Dataset from CASIA-WebFace\n",
        "\n",
        "##### 1. Make Triplet pairs\n",
        "##### 2. Make them zip\n",
        "##### 3. Make Dataset Calss\n",
        "##### 4. Define Transform"
      ]
    },
    {
      "cell_type": "code",
      "execution_count": null,
      "metadata": {
        "id": "fhvoWAWATxvs"
      },
      "outputs": [],
      "source": [
        "# --- Create Triplet Datasets ---\n",
        "# --- make a list of ids and folders\n",
        "selected_ids = np.uint32(np.round((np.random.rand(int(Triplet_size))) * (NumberID-1)))\n",
        "folders = os.listdir(\"./CASIA-WebFace/\")\n",
        "\n",
        "# --- Itrate on each id and make Triplets list\n",
        "TripletList = []\n",
        "\n",
        "for index,id in enumerate(selected_ids):\n",
        "\n",
        "  # --- find name of id faces folder\n",
        "  id_str = str(folders[id])\n",
        "\n",
        "  # --- find list of faces in this folder\n",
        "  number_faces = os.listdir(\"./CASIA-WebFace/\"+id_str)\n",
        "\n",
        "  # --- Get two Random number for Anchor and Positive\n",
        "  while(True):\n",
        "    two_random = np.uint32(np.round(np.random.rand(2) * (len(number_faces)-1))) \n",
        "    if (two_random[0] != two_random[1]):\n",
        "      break\n",
        "\n",
        "  # --- Make Anchor and Positive image\n",
        "  Anchor   = str(number_faces[two_random[0]])\n",
        "  Positive = str(number_faces[two_random[1]])\n",
        "\n",
        "  # --- Make Negative image\n",
        "  while(True):\n",
        "    neg_id = np.uint32(np.round(np.random.rand(1) * (NumberID-1)))\n",
        "    if (neg_id != id):\n",
        "      break\n",
        "  # --- number of images in negative Folder\n",
        "  neg_id_str   = str(folders[neg_id[0]])\n",
        "  number_faces = os.listdir(\"./CASIA-WebFace/\"+neg_id_str)\n",
        "  one_random   = np.uint32(np.round(np.random.rand(1) * (len(number_faces)-1))) \n",
        "  Negative     = str(number_faces[one_random[0]])\n",
        "  \n",
        "  # --- insert Anchor, Positive and Negative image path to TripletList\n",
        "  TempList = [\"\",\"\",\"\"]\n",
        "  TempList[0] =  id_str + \"/\" + Anchor\n",
        "  TempList[1] =  id_str + \"/\" + Positive\n",
        "  TempList[2] =  neg_id_str + \"/\" + Negative\n",
        "  TripletList.append(TempList)\n",
        "\n",
        "  \n",
        "\n",
        "\n",
        "\n",
        "\n",
        "\n"
      ]
    },
    {
      "cell_type": "code",
      "execution_count": null,
      "metadata": {
        "id": "BjQxSAlyTxx1"
      },
      "outputs": [],
      "source": [
        "# # --- Make dataset Triplets File\n",
        "# f = open(\"CASIA-WebFace-Triplets.txt\", \"w\")\n",
        "# for index, triplet in enumerate(TripletList):\n",
        "#   f.write(triplet[0] + \" \" + triplet[1] + \" \" + triplet[2])\n",
        "#   if (index != len(TripletList)-1):\n",
        "#     f.write(\"\\n\")\n",
        "# f.close()\n",
        "\n",
        "\n",
        "# # --- Make zipFile if you need\n",
        "# !zip -r CASIA-WebFace-Triplets.zip CASIA-WebFace-Triplets.txt"
      ]
    },
    {
      "cell_type": "code",
      "execution_count": null,
      "metadata": {
        "id": "sEFq-WKhtWSw"
      },
      "outputs": [],
      "source": [
        "# # --- Read zip File and extract TripletList\n",
        "# TripletList = []\n",
        "# # !unzip CASIA-WebFace-Triplets.zip\n",
        "\n",
        "# # --- Read text file\n",
        "# with open('CASIA-WebFace-Triplets.txt') as f:\n",
        "#     lines = f.readlines()\n",
        "#     for line in lines:\n",
        "#       TripletList.append(line.split(' '))\n",
        "#       TripletList[-1][2] = TripletList[-1][2][0:-1]\n",
        "\n",
        "# # --- Print some data\n",
        "# print(TripletList[0:5])\n"
      ]
    },
    {
      "cell_type": "code",
      "execution_count": null,
      "metadata": {
        "id": "oHzvdd4MTx1P"
      },
      "outputs": [],
      "source": [
        "# --- Make Pytorch Dataset Class for Triplets \n",
        "class TripletFaceDatset(Dataset):\n",
        "  def __init__(self, list_of_triplets, transform=None):\n",
        "    # --- initializing values\n",
        "    print(\"Start Creating Triplets Dataset from CASIA-WebFace\")\n",
        "    self.list_of_triplets = list_of_triplets\n",
        "    self.transform = transform\n",
        "\n",
        "  # --- getitem function\n",
        "  def __getitem__(self, index):\n",
        "    # --- get images path and read faces\n",
        "    anc_img_path, pos_img_path, neg_img_path = self.list_of_triplets[index]\n",
        "    anc_img = cv2.imread('./CASIA-WebFace/'+anc_img_path)\n",
        "    pos_img = cv2.imread('./CASIA-WebFace/'+pos_img_path)\n",
        "    neg_img = cv2.imread('./CASIA-WebFace/'+neg_img_path)\n",
        "\n",
        "    # anc_img = cv2.resize(anc_img, (114,114))\n",
        "    # pos_img = cv2.resize(pos_img, (114,114))\n",
        "    # neg_img = cv2.resize(neg_img, (114,114))\n",
        "\n",
        "\n",
        "    # --- set transform\n",
        "    if self.transform:\n",
        "      anc_img = self.transform(anc_img)\n",
        "      pos_img = self.transform(pos_img)\n",
        "      neg_img = self.transform(neg_img)\n",
        "    \n",
        "    return {'anc_img' : anc_img,\n",
        "            'pos_img' : pos_img,\n",
        "            'neg_img' : neg_img}\n",
        "  \n",
        "  # --- return len of triplets\n",
        "  def __len__(self):\n",
        "    return len(self.list_of_triplets)\n",
        "  \n",
        "\n",
        "\n",
        "\n"
      ]
    },
    {
      "cell_type": "code",
      "execution_count": null,
      "metadata": {
        "id": "gpCnypG778KL"
      },
      "outputs": [],
      "source": [
        "# --- Define Transforms\n",
        "transform_list =transforms.Compose([\n",
        "                      transforms.ToPILImage(),\n",
        "                      transforms.Resize((140,140)),\n",
        "                      transforms.ToTensor(),\n",
        "                      transforms.Normalize(mean=[0.485, 0.456, 0.406],\n",
        "                                           std =[0.229, 0.224, 0.225])\n",
        "                 ])\n",
        "\n"
      ]
    },
    {
      "cell_type": "code",
      "execution_count": null,
      "metadata": {
        "colab": {
          "base_uri": "https://localhost:8080/"
        },
        "id": "hufkOT7yi_BJ",
        "outputId": "29337841-7c7f-4ab8-f449-6d7a592fc953"
      },
      "outputs": [
        {
          "output_type": "stream",
          "name": "stdout",
          "text": [
            "Start Creating Triplets Dataset from CASIA-WebFace\n"
          ]
        },
        {
          "output_type": "execute_result",
          "data": {
            "text/plain": [
              "torch.Size([3, 140, 140])"
            ]
          },
          "metadata": {},
          "execution_count": 31
        }
      ],
      "source": [
        "# --- Test Dataset\n",
        "triplet_dataset = TripletFaceDatset(TripletList, transform_list)\n",
        "triplet_dataset[0]['anc_img'].shape"
      ]
    },
    {
      "cell_type": "markdown",
      "metadata": {
        "id": "LJo0ZmpSQxRt"
      },
      "source": [
        "# LFW Evaluation\n",
        "##### 1. Face detection function\n",
        "##### 2. Load LFW Pairs .npy file\n",
        "##### 3. Define Function for evaluation "
      ]
    },
    {
      "cell_type": "code",
      "execution_count": null,
      "metadata": {
        "id": "mPh81E-yE8vy"
      },
      "outputs": [],
      "source": [
        "# -------------------------- UTILS CELL -------------------------------\n",
        "\n",
        "trained_face_data = cv2.CascadeClassifier(cv2.data.haarcascades+'haarcascade_frontalface_default.xml')\n",
        "# --- define Functions\n",
        "def face_detect(file_name):\n",
        "  flag = True\n",
        "  # Choose an image to detect faces in\n",
        "  img = cv2.imread(file_name)\n",
        "\n",
        "  # Must convert to greyscale\n",
        "  # grayscaled_img = cv2.cvtColor(img, cv2.COLOR_BGR2GRAY)\n",
        "\n",
        "  # Detect Faces \n",
        "  # face_coordinates = trained_face_data.detectMultiScale(grayscaled_img)\n",
        "\n",
        "  # img_crop = []\n",
        "  # Draw rectangles around the faces\n",
        "  # for (x, y, w, h) in face_coordinates:\n",
        "  #   img_crop.append(img[y-20:y+h+20, x-20:x+w+20])\n",
        "\n",
        "  # --- select only Biggest\n",
        "  # big_id = 0\n",
        "  # if len(img_crop) > 1:\n",
        "  #   temp = 0\n",
        "  #   for idx, img in enumerate(img_crop):\n",
        "  #     if img.shape[0] > temp:\n",
        "  #       temp = img.shape[0]\n",
        "  #       big_id = idx\n",
        "  # elif len(img_crop) == 0:\n",
        "  #   flag = False\n",
        "  #   img_crop = [0]\n",
        "\n",
        "  # return image crop\n",
        "  # return [img_crop[big_id]], flag\n",
        "  return [img], flag"
      ]
    },
    {
      "cell_type": "code",
      "execution_count": null,
      "metadata": {
        "id": "_nDXMJZdkUj3"
      },
      "outputs": [],
      "source": [
        "# --- LFW Dataset loading for test part\n",
        "l2_dist = PairwiseDistance(2)\n",
        "cos = nn.CosineSimilarity(dim=1, eps=1e-6)\n",
        "# --- 1. Load .npy pairs path\n",
        "lfw_pairs_path = np.load('lfw_pairs_path.npy', allow_pickle=True)\n",
        "pairs_dist_list_mat = []\n",
        "pairs_dist_list_unmat = []\n",
        "valid_thresh = 0.96\n",
        "\n",
        "def lfw_validation(model):\n",
        "  global valid_thresh\n",
        "  tot_len = len(lfw_pairs_path)\n",
        "\n",
        "  model.eval() # use model in evaluation mode\n",
        "  with torch.no_grad():\n",
        "    true_match = 0\n",
        "    for path in lfw_pairs_path:\n",
        "      # --- extracting\n",
        "      pair_one_path = path['pair_one']\n",
        "      # print(pair_one_path)\n",
        "      pair_two_path = path['pair_two']\n",
        "      # print(pair_two_path)\n",
        "      matched       = int(path['matched'])\n",
        "\n",
        "      # --- detect face and resize it\n",
        "      pair_one_img, flag_one = face_detect(pair_one_path)\n",
        "      pair_two_img, flag_two = face_detect(pair_two_path)\n",
        "\n",
        "      if (flag_one==False) or (flag_two==False):\n",
        "        tot_len = tot_len-1\n",
        "        continue\n",
        "      \n",
        "\n",
        "      # --- Model Predict\n",
        "      pair_one_img = transform_list(pair_one_img[0])\n",
        "      pair_two_img = transform_list(pair_two_img[0])\n",
        "      pair_one_embed = model(torch.unsqueeze(pair_one_img, 0).to(device))\n",
        "      pair_two_embed = model(torch.unsqueeze(pair_two_img, 0).to(device))\n",
        "      \n",
        "      # print(pair_one_embed.shape)\n",
        "      # break\n",
        "      # print(pair_one_img)\n",
        "      # break\n",
        "      # --- find Distance\n",
        "      pairs_dist = l2_dist.forward(pair_one_embed, pair_two_embed)\n",
        "      if matched == 1: pairs_dist_list_mat.append(pairs_dist.item())\n",
        "      if matched == 0: pairs_dist_list_unmat.append(pairs_dist.item())\n",
        "      \n",
        "\n",
        "      # --- thrsholding\n",
        "      if (matched==1 and pairs_dist.item() <= valid_thresh) or (matched==0 and pairs_dist.item() > valid_thresh):\n",
        "        true_match += 1\n",
        "\n",
        "  valid_thresh = (np.percentile(pairs_dist_list_unmat,25) + np.percentile(pairs_dist_list_mat,75)) /2\n",
        "  print(\"Thresh :\", valid_thresh)\n",
        "  return (true_match/tot_len)*100\n",
        "\n"
      ]
    },
    {
      "cell_type": "code",
      "execution_count": null,
      "metadata": {
        "id": "jDPjawj6mBEk"
      },
      "outputs": [],
      "source": [
        "# img, _ = face_detect(\"./lfw-deepfunneled/Steve_Lavin/Steve_Lavin_0002.jpg\")\n",
        "# plt.imshow(img[0])\n",
        "# plt.show()"
      ]
    },
    {
      "cell_type": "code",
      "execution_count": null,
      "metadata": {
        "colab": {
          "base_uri": "https://localhost:8080/",
          "height": 340
        },
        "id": "AnsdBfyKORsi",
        "outputId": "cc8c8969-85db-4711-a8fc-c12d9f77a211"
      },
      "outputs": [
        {
          "output_type": "error",
          "ename": "TypeError",
          "evalue": "ignored",
          "traceback": [
            "\u001b[0;31m---------------------------------------------------------------------------\u001b[0m",
            "\u001b[0;31mTypeError\u001b[0m                                 Traceback (most recent call last)",
            "\u001b[0;32m<ipython-input-14-3ea7d34704a2>\u001b[0m in \u001b[0;36m<module>\u001b[0;34m()\u001b[0m\n\u001b[1;32m      2\u001b[0m \u001b[0;32mfor\u001b[0m \u001b[0mi\u001b[0m \u001b[0;32min\u001b[0m \u001b[0mtemp\u001b[0m\u001b[0;34m:\u001b[0m\u001b[0;34m\u001b[0m\u001b[0;34m\u001b[0m\u001b[0m\n\u001b[1;32m      3\u001b[0m   \u001b[0mvalid_thresh\u001b[0m \u001b[0;34m=\u001b[0m \u001b[0mi\u001b[0m\u001b[0;34m\u001b[0m\u001b[0;34m\u001b[0m\u001b[0m\n\u001b[0;32m----> 4\u001b[0;31m   \u001b[0mprint\u001b[0m\u001b[0;34m(\u001b[0m\u001b[0mlfw_validation\u001b[0m\u001b[0;34m(\u001b[0m\u001b[0mmodel\u001b[0m\u001b[0;34m)\u001b[0m\u001b[0;34m)\u001b[0m\u001b[0;34m\u001b[0m\u001b[0;34m\u001b[0m\u001b[0m\n\u001b[0m",
            "\u001b[0;32m<ipython-input-13-5984e9d2b1b2>\u001b[0m in \u001b[0;36mlfw_validation\u001b[0;34m(model)\u001b[0m\n\u001b[1;32m     33\u001b[0m \u001b[0;34m\u001b[0m\u001b[0m\n\u001b[1;32m     34\u001b[0m       \u001b[0;31m# --- Model Predict\u001b[0m\u001b[0;34m\u001b[0m\u001b[0;34m\u001b[0m\u001b[0;34m\u001b[0m\u001b[0m\n\u001b[0;32m---> 35\u001b[0;31m       \u001b[0mpair_one_img\u001b[0m \u001b[0;34m=\u001b[0m \u001b[0mtransform_list\u001b[0m\u001b[0;34m(\u001b[0m\u001b[0mpair_one_img\u001b[0m\u001b[0;34m[\u001b[0m\u001b[0;36m0\u001b[0m\u001b[0;34m]\u001b[0m\u001b[0;34m)\u001b[0m\u001b[0;34m\u001b[0m\u001b[0;34m\u001b[0m\u001b[0m\n\u001b[0m\u001b[1;32m     36\u001b[0m       \u001b[0mpair_two_img\u001b[0m \u001b[0;34m=\u001b[0m \u001b[0mtransform_list\u001b[0m\u001b[0;34m(\u001b[0m\u001b[0mpair_two_img\u001b[0m\u001b[0;34m[\u001b[0m\u001b[0;36m0\u001b[0m\u001b[0;34m]\u001b[0m\u001b[0;34m)\u001b[0m\u001b[0;34m\u001b[0m\u001b[0;34m\u001b[0m\u001b[0m\n\u001b[1;32m     37\u001b[0m       \u001b[0mpair_one_embed\u001b[0m \u001b[0;34m=\u001b[0m \u001b[0mmodel\u001b[0m\u001b[0;34m(\u001b[0m\u001b[0mtorch\u001b[0m\u001b[0;34m.\u001b[0m\u001b[0munsqueeze\u001b[0m\u001b[0;34m(\u001b[0m\u001b[0mpair_one_img\u001b[0m\u001b[0;34m,\u001b[0m \u001b[0;36m0\u001b[0m\u001b[0;34m)\u001b[0m\u001b[0;34m.\u001b[0m\u001b[0mto\u001b[0m\u001b[0;34m(\u001b[0m\u001b[0mdevice\u001b[0m\u001b[0;34m)\u001b[0m\u001b[0;34m)\u001b[0m\u001b[0;34m\u001b[0m\u001b[0;34m\u001b[0m\u001b[0m\n",
            "\u001b[0;32m/usr/local/lib/python3.7/dist-packages/torchvision/transforms/transforms.py\u001b[0m in \u001b[0;36m__call__\u001b[0;34m(self, img)\u001b[0m\n\u001b[1;32m     59\u001b[0m     \u001b[0;32mdef\u001b[0m \u001b[0m__call__\u001b[0m\u001b[0;34m(\u001b[0m\u001b[0mself\u001b[0m\u001b[0;34m,\u001b[0m \u001b[0mimg\u001b[0m\u001b[0;34m)\u001b[0m\u001b[0;34m:\u001b[0m\u001b[0;34m\u001b[0m\u001b[0;34m\u001b[0m\u001b[0m\n\u001b[1;32m     60\u001b[0m         \u001b[0;32mfor\u001b[0m \u001b[0mt\u001b[0m \u001b[0;32min\u001b[0m \u001b[0mself\u001b[0m\u001b[0;34m.\u001b[0m\u001b[0mtransforms\u001b[0m\u001b[0;34m:\u001b[0m\u001b[0;34m\u001b[0m\u001b[0;34m\u001b[0m\u001b[0m\n\u001b[0;32m---> 61\u001b[0;31m             \u001b[0mimg\u001b[0m \u001b[0;34m=\u001b[0m \u001b[0mt\u001b[0m\u001b[0;34m(\u001b[0m\u001b[0mimg\u001b[0m\u001b[0;34m)\u001b[0m\u001b[0;34m\u001b[0m\u001b[0;34m\u001b[0m\u001b[0m\n\u001b[0m\u001b[1;32m     62\u001b[0m         \u001b[0;32mreturn\u001b[0m \u001b[0mimg\u001b[0m\u001b[0;34m\u001b[0m\u001b[0;34m\u001b[0m\u001b[0m\n\u001b[1;32m     63\u001b[0m \u001b[0;34m\u001b[0m\u001b[0m\n",
            "\u001b[0;32m/usr/local/lib/python3.7/dist-packages/torchvision/transforms/transforms.py\u001b[0m in \u001b[0;36m__call__\u001b[0;34m(self, pic)\u001b[0m\n\u001b[1;32m    182\u001b[0m \u001b[0;34m\u001b[0m\u001b[0m\n\u001b[1;32m    183\u001b[0m         \"\"\"\n\u001b[0;32m--> 184\u001b[0;31m         \u001b[0;32mreturn\u001b[0m \u001b[0mF\u001b[0m\u001b[0;34m.\u001b[0m\u001b[0mto_pil_image\u001b[0m\u001b[0;34m(\u001b[0m\u001b[0mpic\u001b[0m\u001b[0;34m,\u001b[0m \u001b[0mself\u001b[0m\u001b[0;34m.\u001b[0m\u001b[0mmode\u001b[0m\u001b[0;34m)\u001b[0m\u001b[0;34m\u001b[0m\u001b[0;34m\u001b[0m\u001b[0m\n\u001b[0m\u001b[1;32m    185\u001b[0m \u001b[0;34m\u001b[0m\u001b[0m\n\u001b[1;32m    186\u001b[0m     \u001b[0;32mdef\u001b[0m \u001b[0m__repr__\u001b[0m\u001b[0;34m(\u001b[0m\u001b[0mself\u001b[0m\u001b[0;34m)\u001b[0m\u001b[0;34m:\u001b[0m\u001b[0;34m\u001b[0m\u001b[0;34m\u001b[0m\u001b[0m\n",
            "\u001b[0;32m/usr/local/lib/python3.7/dist-packages/torchvision/transforms/functional.py\u001b[0m in \u001b[0;36mto_pil_image\u001b[0;34m(pic, mode)\u001b[0m\n\u001b[1;32m    229\u001b[0m     \"\"\"\n\u001b[1;32m    230\u001b[0m     \u001b[0;32mif\u001b[0m \u001b[0;32mnot\u001b[0m\u001b[0;34m(\u001b[0m\u001b[0misinstance\u001b[0m\u001b[0;34m(\u001b[0m\u001b[0mpic\u001b[0m\u001b[0;34m,\u001b[0m \u001b[0mtorch\u001b[0m\u001b[0;34m.\u001b[0m\u001b[0mTensor\u001b[0m\u001b[0;34m)\u001b[0m \u001b[0;32mor\u001b[0m \u001b[0misinstance\u001b[0m\u001b[0;34m(\u001b[0m\u001b[0mpic\u001b[0m\u001b[0;34m,\u001b[0m \u001b[0mnp\u001b[0m\u001b[0;34m.\u001b[0m\u001b[0mndarray\u001b[0m\u001b[0;34m)\u001b[0m\u001b[0;34m)\u001b[0m\u001b[0;34m:\u001b[0m\u001b[0;34m\u001b[0m\u001b[0;34m\u001b[0m\u001b[0m\n\u001b[0;32m--> 231\u001b[0;31m         \u001b[0;32mraise\u001b[0m \u001b[0mTypeError\u001b[0m\u001b[0;34m(\u001b[0m\u001b[0;34m'pic should be Tensor or ndarray. Got {}.'\u001b[0m\u001b[0;34m.\u001b[0m\u001b[0mformat\u001b[0m\u001b[0;34m(\u001b[0m\u001b[0mtype\u001b[0m\u001b[0;34m(\u001b[0m\u001b[0mpic\u001b[0m\u001b[0;34m)\u001b[0m\u001b[0;34m)\u001b[0m\u001b[0;34m)\u001b[0m\u001b[0;34m\u001b[0m\u001b[0;34m\u001b[0m\u001b[0m\n\u001b[0m\u001b[1;32m    232\u001b[0m \u001b[0;34m\u001b[0m\u001b[0m\n\u001b[1;32m    233\u001b[0m     \u001b[0;32melif\u001b[0m \u001b[0misinstance\u001b[0m\u001b[0;34m(\u001b[0m\u001b[0mpic\u001b[0m\u001b[0;34m,\u001b[0m \u001b[0mtorch\u001b[0m\u001b[0;34m.\u001b[0m\u001b[0mTensor\u001b[0m\u001b[0;34m)\u001b[0m\u001b[0;34m:\u001b[0m\u001b[0;34m\u001b[0m\u001b[0;34m\u001b[0m\u001b[0m\n",
            "\u001b[0;31mTypeError\u001b[0m: pic should be Tensor or ndarray. Got <class 'NoneType'>."
          ]
        }
      ],
      "source": [
        "temp = [0.4, 0.5, 0.6, 0.7, 0.8, 0.9]\n",
        "for i in temp:\n",
        "  valid_thresh = i\n",
        "  print(lfw_validation(model))"
      ]
    },
    {
      "cell_type": "code",
      "execution_count": null,
      "metadata": {
        "id": "ouZDYnfmLdEI"
      },
      "outputs": [],
      "source": [
        "(np.mean(pairs_dist_list_mat) + np.mean(pairs_dist_list_unmat) )/2"
      ]
    },
    {
      "cell_type": "code",
      "execution_count": null,
      "metadata": {
        "id": "AysIoYDVLxAP"
      },
      "outputs": [],
      "source": [
        "ppairs_dist_list_unmat"
      ]
    },
    {
      "cell_type": "code",
      "execution_count": null,
      "metadata": {
        "id": "VKpJGtHhy46C"
      },
      "outputs": [],
      "source": [
        "# --- find best thresh\n",
        "round_unmat = pairs_dist_list_unmat\n",
        "round_mat = pairs_dist_list_mat\n",
        "\n",
        "print(\"----- Unmatched statistical information -----\")\n",
        "print(\"len  : \",len(round_unmat))\n",
        "print(\"min  : \", np.min(round_unmat))\n",
        "print(\"Q1   : \", np.percentile(round_unmat, 15))\n",
        "print(\"mean : \", np.mean(round_unmat))\n",
        "print(\"Q3   : \", np.percentile(round_unmat, 75))\n",
        "print(\"max  : \", np.max(round_unmat))\n",
        "\n",
        "print(\"\\n\")\n",
        "print(\"----- matched statistical information -----\")\n",
        "print(\"len  : \",len(round_mat))\n",
        "print(\"min  : \", np.min(round_mat))\n",
        "print(\"Q1   : \", np.percentile(round_mat, 25))\n",
        "print(\"mean : \", np.mean(round_mat))\n",
        "print(\"Q3   : \", np.percentile(round_mat, 85))\n",
        "print(\"max  : \", np.max(round_mat))"
      ]
    },
    {
      "cell_type": "markdown",
      "metadata": {
        "id": "xy3ZxwGoVpp4"
      },
      "source": [
        "## How to make Training Faster"
      ]
    },
    {
      "cell_type": "code",
      "execution_count": null,
      "metadata": {
        "id": "d2BgIxYaErf8"
      },
      "outputs": [],
      "source": [
        "# Make Trianing Faster in Pytorch(Cuda):\n",
        "# 1. use number of worker\n",
        "# 2. set pin_memory\n",
        "# 3. Enable cuDNN for optimizing Conv\n",
        "# 4. using AMP\n",
        "# 5. set bias=False in conv layer if you set batch normalizing in model\n",
        "\n",
        "\n",
        "\n",
        "# source: https://betterprogramming.pub/how-to-make-your-pytorch-code-run-faster-93079f3c1f7b"
      ]
    },
    {
      "cell_type": "markdown",
      "metadata": {
        "id": "MpIyf3wIVvrV"
      },
      "source": [
        "# DataLoader"
      ]
    },
    {
      "cell_type": "code",
      "execution_count": null,
      "metadata": {
        "id": "tgoZ9MsYi_Dm",
        "colab": {
          "base_uri": "https://localhost:8080/"
        },
        "outputId": "b0a55ef7-7c76-4953-bca6-a30df9e3af97"
      },
      "outputs": [
        {
          "output_type": "stream",
          "name": "stderr",
          "text": [
            "/usr/local/lib/python3.7/dist-packages/torch/utils/data/dataloader.py:481: UserWarning: This DataLoader will create 4 worker processes in total. Our suggested max number of worker in current system is 2, which is smaller than what this DataLoader is going to create. Please be aware that excessive worker creation might get DataLoader running slow or even freeze, lower the worker number to avoid potential slowness/freeze if necessary.\n",
            "  cpuset_checked))\n"
          ]
        }
      ],
      "source": [
        "# --- DataLoader\n",
        "face_data = torch.utils.data.DataLoader(triplet_dataset, \n",
        "                                       batch_size= batch_size,\n",
        "                                       shuffle=True,\n",
        "                                       num_workers=4,\n",
        "                                       pin_memory= True)\n",
        "\n",
        "# --- Enable cuDNN\n",
        "torch.backends.cudnn.benchmark = True\n"
      ]
    },
    {
      "cell_type": "markdown",
      "metadata": {
        "id": "L1wdSL0FV2Sz"
      },
      "source": [
        "# Save Model (best acc. and last acc.)"
      ]
    },
    {
      "cell_type": "code",
      "execution_count": null,
      "metadata": {
        "colab": {
          "base_uri": "https://localhost:8080/"
        },
        "id": "YkBFLWrIE3cR",
        "outputId": "45d921b0-c083-4cba-f5ef-6339acd6a1c8"
      },
      "outputs": [
        {
          "output_type": "stream",
          "name": "stdout",
          "text": [
            "Mounted at /content/gdrive\n"
          ]
        }
      ],
      "source": [
        "# --- saving model for best and last model\n",
        "\n",
        "# --- Connect to google Drive for saving models\n",
        "from google.colab import drive\n",
        "drive.mount('/content/gdrive')\n",
        "\n",
        "# --- some variable for saving models\n",
        "BEST_MODEL_PATH = \"./gdrive/MyDrive/best_trained.pth\"\n",
        "LAST_MODEL_PATH = \"./gdrive/MyDrive/last_trained.pth\"\n",
        "\n",
        "\n",
        "def save_model(model_sv, loss_sv, epoch_sv, optimizer_state_sv, accuracy, accu_sv_list, loss_sv_list):\n",
        "  # --- Inputs:\n",
        "  #     1. model_sv           : orginal model that trained\n",
        "  #     2. loss_sv            : current loss\n",
        "  #     3. epoch_sv           : current epoch\n",
        "  #     4. optimizer_state_sv : current value of optimizer \n",
        "  #     5. accuracy           : current accuracy\n",
        "  \n",
        "  # --- save last epoch\n",
        "  if accuracy >= max(accu_sv_list): \n",
        "    torch.save(model.state_dict(), BEST_MODEL_PATH)\n",
        "  \n",
        "  # --- save this model for checkpoint\n",
        "  torch.save({\n",
        "            'epoch': epoch_sv,\n",
        "            'model_state_dict': model.state_dict(),\n",
        "            'optimizer_state_dict': optimizer_state_sv.state_dict(),\n",
        "            'loss': loss_sv,\n",
        "            'accu_sv_list': accu_sv_list,\n",
        "            'loss_sv_list' : loss_sv_list\n",
        "             }, LAST_MODEL_PATH)\n"
      ]
    },
    {
      "cell_type": "markdown",
      "metadata": {
        "id": "9fWrVXgxV1Da"
      },
      "source": [
        "# Load prev. model for continue training"
      ]
    },
    {
      "cell_type": "code",
      "execution_count": null,
      "metadata": {
        "id": "BnrcK7aUV1SJ"
      },
      "outputs": [],
      "source": [
        "torch.cuda.empty_cache()\n",
        "\n",
        "# --- training initialize and start\n",
        "model       = ResNet18().to(device)                                                 # load model                                                       \n",
        "tiplet_loss = TripletLoss(loss_margin)                                              # load Tripletloss\n",
        "optimizer   = optim.Adam(filter(lambda p: p.requires_grad, model.parameters()), \n",
        "                         lr=learning_rate)                                          # load optimizer\n",
        "l2_dist     = PairwiseDistance(2)                                                   # L2 distance loading                                                                    # save loss values\n",
        "epoch_check = 0\n",
        "valid_arr   = []\n",
        "loss_arr    = []\n",
        "\n",
        "\n",
        "load_last_epoch = True\n",
        "if (load_last_epoch == True):\n",
        "  # --- load last model\n",
        "  # define model objects before this\n",
        "  checkpoint = torch.load(LAST_MODEL_PATH, map_location=device)                      # load model path\n",
        "  model.load_state_dict(checkpoint['model_state_dict'])         # load state dict\n",
        "  optimizer.load_state_dict(checkpoint['optimizer_state_dict']) # load optimizer\n",
        "  epoch_check = checkpoint['epoch']                             # load epoch\n",
        "  loss = checkpoint['loss']                                     # load loss value\n",
        "  valid_arr = checkpoint['accu_sv_list']                        # load Acc. values\n",
        "  loss_arr = checkpoint['loss_sv_list']                         # load loss values\n",
        "model.train()  \n"
      ]
    },
    {
      "cell_type": "code",
      "execution_count": null,
      "metadata": {
        "colab": {
          "base_uri": "https://localhost:8080/"
        },
        "id": "BMjH-c_OLHcw",
        "outputId": "1fa2682c-f634-4e0e-b690-baf09194c3c3"
      },
      "outputs": [
        {
          "output_type": "execute_result",
          "data": {
            "text/plain": [
              "107"
            ]
          },
          "metadata": {},
          "execution_count": 20
        }
      ],
      "source": [
        "epoch_check"
      ]
    },
    {
      "cell_type": "code",
      "execution_count": null,
      "metadata": {
        "colab": {
          "base_uri": "https://localhost:8080/"
        },
        "id": "kEx1p65mxCss",
        "outputId": "ab0043b0-ce76-44b0-ac91-b003c2c39cff"
      },
      "outputs": [
        {
          "output_type": "execute_result",
          "data": {
            "text/plain": [
              "0.004417351509642321"
            ]
          },
          "metadata": {},
          "execution_count": 21
        }
      ],
      "source": [
        "loss"
      ]
    },
    {
      "cell_type": "markdown",
      "metadata": {
        "id": "VDRwR6N-gNOW"
      },
      "source": [
        "# Training Loop"
      ]
    },
    {
      "cell_type": "code",
      "execution_count": null,
      "metadata": {
        "colab": {
          "base_uri": "https://localhost:8080/"
        },
        "id": "E3whW-_YfF1c",
        "outputId": "6bb355b4-22ab-45a0-95b3-300e94db5be5"
      },
      "outputs": [
        {
          "metadata": {
            "tags": null
          },
          "name": "stdout",
          "output_type": "stream",
          "text": [
            "================================================================================\n"
          ]
        },
        {
          "metadata": {
            "tags": null
          },
          "name": "stderr",
          "output_type": "stream",
          "text": [
            "/usr/local/lib/python3.7/dist-packages/torch/utils/data/dataloader.py:481: UserWarning: This DataLoader will create 4 worker processes in total. Our suggested max number of worker in current system is 2, which is smaller than what this DataLoader is going to create. Please be aware that excessive worker creation might get DataLoader running slow or even freeze, lower the worker number to avoid potential slowness/freeze if necessary.\n",
            "  cpuset_checked))\n"
          ]
        },
        {
          "output_type": "stream",
          "name": "stdout",
          "text": [
            "Epoch: [1/200]  ,Batch index: [1/10000], Loss Value:[0.55121058]\n",
            "Epoch: [1/200]  ,Batch index: [201/10000], Loss Value:[0.56104153]\n",
            "Epoch: [1/200]  ,Batch index: [401/10000], Loss Value:[0.51668715]\n",
            "Epoch: [1/200]  ,Batch index: [601/10000], Loss Value:[0.46920896]\n",
            "Epoch: [1/200]  ,Batch index: [801/10000], Loss Value:[0.51631397]\n",
            "Epoch: [1/200]  ,Batch index: [1001/10000], Loss Value:[0.46902987]\n",
            "Epoch: [1/200]  ,Batch index: [1201/10000], Loss Value:[0.46686172]\n",
            "Epoch: [1/200]  ,Batch index: [1401/10000], Loss Value:[0.47691041]\n",
            "Epoch: [1/200]  ,Batch index: [1601/10000], Loss Value:[0.50785959]\n",
            "Epoch: [1/200]  ,Batch index: [1801/10000], Loss Value:[0.44824705]\n",
            "Epoch: [1/200]  ,Batch index: [2001/10000], Loss Value:[0.35941172]\n",
            "Epoch: [1/200]  ,Batch index: [2201/10000], Loss Value:[0.47547746]\n",
            "Epoch: [1/200]  ,Batch index: [2401/10000], Loss Value:[0.39145350]\n",
            "Epoch: [1/200]  ,Batch index: [2601/10000], Loss Value:[0.41670471]\n",
            "Epoch: [1/200]  ,Batch index: [2801/10000], Loss Value:[0.46998897]\n",
            "Epoch: [1/200]  ,Batch index: [3001/10000], Loss Value:[0.42585620]\n",
            "Epoch: [1/200]  ,Batch index: [3201/10000], Loss Value:[0.48971489]\n",
            "Epoch: [1/200]  ,Batch index: [3401/10000], Loss Value:[0.42778981]\n",
            "Epoch: [1/200]  ,Batch index: [3601/10000], Loss Value:[0.41686618]\n",
            "Epoch: [1/200]  ,Batch index: [3801/10000], Loss Value:[0.38920978]\n",
            "Epoch: [1/200]  ,Batch index: [4001/10000], Loss Value:[0.40987140]\n",
            "Epoch: [1/200]  ,Batch index: [4201/10000], Loss Value:[0.38888416]\n",
            "Epoch: [1/200]  ,Batch index: [4401/10000], Loss Value:[0.41415498]\n",
            "Epoch: [1/200]  ,Batch index: [4601/10000], Loss Value:[0.39682975]\n",
            "Epoch: [1/200]  ,Batch index: [4801/10000], Loss Value:[0.39576373]\n",
            "Epoch: [1/200]  ,Batch index: [5001/10000], Loss Value:[0.34788090]\n",
            "Epoch: [1/200]  ,Batch index: [5201/10000], Loss Value:[0.35588807]\n",
            "Epoch: [1/200]  ,Batch index: [5401/10000], Loss Value:[0.44289151]\n",
            "Epoch: [1/200]  ,Batch index: [5601/10000], Loss Value:[0.39068347]\n",
            "Epoch: [1/200]  ,Batch index: [5801/10000], Loss Value:[0.39546660]\n",
            "Epoch: [1/200]  ,Batch index: [6001/10000], Loss Value:[0.33902925]\n",
            "Epoch: [1/200]  ,Batch index: [6201/10000], Loss Value:[0.36648974]\n",
            "Epoch: [1/200]  ,Batch index: [6401/10000], Loss Value:[0.40569237]\n",
            "Epoch: [1/200]  ,Batch index: [6601/10000], Loss Value:[0.36460823]\n",
            "Epoch: [1/200]  ,Batch index: [6801/10000], Loss Value:[0.38394758]\n",
            "Epoch: [1/200]  ,Batch index: [7001/10000], Loss Value:[0.40797505]\n",
            "Epoch: [1/200]  ,Batch index: [7201/10000], Loss Value:[0.39931533]\n",
            "Epoch: [1/200]  ,Batch index: [7401/10000], Loss Value:[0.33278137]\n",
            "Epoch: [1/200]  ,Batch index: [7601/10000], Loss Value:[0.37195224]\n"
          ]
        }
      ],
      "source": [
        "model.train()\n",
        "# --- Training loop based on number of epoch\n",
        "temp = 0.075\n",
        "for epoch in range(epoch_check,200):\n",
        "  print(80*'=')\n",
        "  \n",
        "  # --- For saving imformation\n",
        "  triplet_loss_sum = 0.0\n",
        "  len_face_data = len(face_data)\n",
        "\n",
        "  # -- set starting time\n",
        "  time0 = time.time()\n",
        "\n",
        "  # --- make learning rate update\n",
        "  if 50 < len(loss_arr):\n",
        "    for g in optimizer.param_groups:\n",
        "      g['lr'] = 0.001\n",
        "      temp = 0.001\n",
        "\n",
        "  # --- loop on batches\n",
        "  for batch_idx, batch_faces in enumerate(face_data):\n",
        "    # --- Extract face triplets and send them to CPU or GPU\n",
        "    anc_img = batch_faces['anc_img'].to(device)\n",
        "    pos_img = batch_faces['pos_img'].to(device)\n",
        "    neg_img = batch_faces['neg_img'].to(device)\n",
        "\n",
        "    # --- Get embedded values for each triplet\n",
        "    anc_embed = model(anc_img)\n",
        "    pos_embed = model(pos_img)\n",
        "    neg_embed = model(neg_img)\n",
        "    \n",
        "\n",
        "    # --- Find Distance\n",
        "    pos_dist = l2_dist.forward(anc_embed, pos_embed)\n",
        "    neg_dist = l2_dist.forward(anc_embed, neg_embed)\n",
        "\n",
        "    # --- Select hard triplets\n",
        "    all = (neg_dist - pos_dist < 0.8).cpu().numpy().flatten()\n",
        "    hard_triplets = np.where(all == 1)\n",
        "\n",
        "    if len(hard_triplets[0]) == 0: # --- Check number of hard triplets\n",
        "      continue\n",
        "    \n",
        "    # --- select hard embeds\n",
        "    anc_hard_embed = anc_embed[hard_triplets]\n",
        "    pos_hard_embed = pos_embed[hard_triplets]\n",
        "    neg_hard_embed = neg_embed[hard_triplets]\n",
        "\n",
        "    # --- Loss\n",
        "    loss_value = tiplet_loss.forward(anc_hard_embed, pos_hard_embed, neg_hard_embed)\n",
        "\n",
        "    # --- backward path\n",
        "    optimizer.zero_grad()\n",
        "    loss_value.backward()\n",
        "    optimizer.step()\n",
        "\n",
        "    if (batch_idx % 200 == 0) : print(\"Epoch: [{}/{}]  ,Batch index: [{}/{}], Loss Value:[{:.8f}]\".format(epoch+1, epochs, batch_idx+1, len_face_data,loss_value))\n",
        "    # --- save information\n",
        "    triplet_loss_sum += loss_value.item()\n",
        "  \n",
        "  print(\"Learning Rate: \", temp)\n",
        "\n",
        "\n",
        "  # --- Find Avg. loss value\n",
        "  avg_triplet_loss = triplet_loss_sum / len_face_data\n",
        "  loss_arr.append(avg_triplet_loss)\n",
        "\n",
        "  \n",
        "  # --- Validation part besed on LFW Dataset\n",
        "  validation_acc = lfw_validation(model)\n",
        "  valid_arr.append(validation_acc)\n",
        "  model.train()\n",
        "\n",
        "  # --- Save model with checkpoints\n",
        "  save_model(model, avg_triplet_loss, epoch+1, optimizer, validation_acc, valid_arr, loss_arr)\n",
        "\n",
        "  # --- Print information for each epoch\n",
        "  print(\" Train set - Triplet Loss    =  {:.8f}\".format(avg_triplet_loss))\n",
        "  print(' Train set - Accuracy        = {:.8f}'.format(validation_acc))\n",
        "  print(f' Execution time              = {time.time() - time0}')\n"
      ]
    },
    {
      "cell_type": "markdown",
      "metadata": {
        "id": "cgMMzRnC_lfy"
      },
      "source": [
        "# plot and print some information"
      ]
    },
    {
      "cell_type": "code",
      "execution_count": null,
      "metadata": {
        "colab": {
          "base_uri": "https://localhost:8080/",
          "height": 265
        },
        "id": "WY4wf27N_jck",
        "outputId": "d2488693-e6f1-4793-c3c2-6bbb51375eca"
      },
      "outputs": [
        {
          "data": {
            "image/png": "[encoded data removed]",
            "text/plain": [
              "<Figure size 432x288 with 1 Axes>"
            ]
          },
          "metadata": {},
          "output_type": "display_data"
        }
      ],
      "source": [
        "plt.plotvalid_arr(, 'b-', \n",
        "         label='Validation Accuracy',\n",
        "         \n",
        "         )\n",
        "plt.show()"
      ]
    },
    {
      "cell_type": "code",
      "execution_count": null,
      "metadata": {
        "colab": {
          "base_uri": "https://localhost:8080/",
          "height": 265
        },
        "id": "4VZ2dfApB6Sc",
        "outputId": "d9f3e953-8430-4e44-df56-74bafbf4262e"
      },
      "outputs": [
        {
          "output_type": "display_data",
          "data": {
            "image/png": "[encoded data removed]",
            "text/plain": [
              "<Figure size 432x288 with 1 Axes>"
            ]
          },
          "metadata": {
            "needs_background": "light"
          }
        }
      ],
      "source": [
        "plt.plot(loss_arr, 'b-', \n",
        "         label='loss values',\n",
        "         \n",
        "         )\n",
        "plt.show()"
      ]
    },
    {
      "cell_type": "code",
      "execution_count": null,
      "metadata": {
        "colab": {
          "base_uri": "https://localhost:8080/"
        },
        "id": "I9x-BgOYeL-I",
        "outputId": "8c205bc9-3791-4452-ba1d-fbf0857ec7d8"
      },
      "outputs": [
        {
          "name": "stdout",
          "output_type": "stream",
          "text": [
            "0.01875\n"
          ]
        }
      ],
      "source": [
        "for param_group in optimizer.param_groups:\n",
        "    print(param_group['lr'])"
      ]
    },
    {
      "cell_type": "code",
      "execution_count": null,
      "metadata": {
        "id": "pC2amnc2eMuT"
      },
      "outputs": [],
      "source": [
        "valid_arr"
      ]
    },
    {
      "cell_type": "code",
      "source": [
        ""
      ],
      "metadata": {
        "id": "V3SfBOeF1nSt"
      },
      "execution_count": null,
      "outputs": []
    },
    {
      "cell_type": "code",
      "source": [
        ""
      ],
      "metadata": {
        "id": "7M56_nsC1nU2"
      },
      "execution_count": null,
      "outputs": []
    },
    {
      "cell_type": "code",
      "source": [
        ""
      ],
      "metadata": {
        "id": "BvbY04eJ1nXl"
      },
      "execution_count": null,
      "outputs": []
    },
    {
      "cell_type": "code",
      "source": [
        ""
      ],
      "metadata": {
        "id": "5SqHV4BM1nZ8"
      },
      "execution_count": null,
      "outputs": []
    },
    {
      "cell_type": "code",
      "source": [
        "print(40*\"=\" + \" Download CASIA WebFace \" + 40*'=')\n",
        "! gdown --id 1Of_EVz-yHV7QVWQGihYfvtny9Ne8qXVz\n",
        "! unzip CASIA-WebFace.zip\n",
        "! rm CASIA-WebFace.zip"
      ],
      "metadata": {
        "id": "dwopTQA11ncH"
      },
      "execution_count": null,
      "outputs": []
    },
    {
      "cell_type": "code",
      "execution_count": null,
      "metadata": {
        "id": "9NvsyMJueMxj",
        "colab": {
          "base_uri": "https://localhost:8080/"
        },
        "outputId": "f6c27d78-989e-4738-db04-d5bec9945a31"
      },
      "outputs": [
        {
          "output_type": "stream",
          "name": "stdout",
          "text": [
            "tensor([0.9349], device='cuda:0')\n"
          ]
        }
      ],
      "source": [
        "# --- LFW Dataset loading for test part\n",
        "l2_dist = PairwiseDistance(2)\n",
        "cos = nn.CosineSimilarity(dim=1, eps=1e-6)\n",
        "\n",
        "valid_thresh = 0.96\n",
        "\n",
        "  \n",
        "\n",
        "model.eval()\n",
        "with torch.no_grad():\n",
        "  # --- extracting\n",
        "  pair_one_path = \"./3.jpg\"\n",
        "  # print(pair_one_path)\n",
        "  pair_two_path = \"./2.jpg\"\n",
        "\n",
        "  # --- detect face and resize it\n",
        "  pair_one_img, flag_one = face_detect(pair_one_path)\n",
        "  pair_two_img, flag_two = face_detect(pair_two_path)\n",
        "\n",
        "  # --- Model Predict\n",
        "  pair_one_img = transform_list(pair_one_img[0])\n",
        "  pair_two_img = transform_list(pair_two_img[0])\n",
        "  pair_one_embed = model(torch.unsqueeze(pair_one_img, 0).to(device))\n",
        "  pair_two_embed = model(torch.unsqueeze(pair_two_img, 0).to(device))\n",
        "\n",
        "  # --- find Distance\n",
        "  pairs_dist = l2_dist.forward(pair_one_embed, pair_two_embed)\n",
        "  print(pairs_dist)\n",
        "  "
      ]
    },
    {
      "cell_type": "code",
      "source": [
        "# --- Create Triplet Datasets ---\n",
        "# --- make a list of ids and folders\n",
        "selected_ids = np.uint32(np.round((np.random.rand(int(Triplet_size))) * (NumberID-1)))\n",
        "folders = os.listdir(\"./CASIA-WebFace/\")\n",
        "\n",
        "# --- Itrate on each id and make Triplets list\n",
        "TripletList = []\n",
        "\n",
        "for index,id in enumerate(selected_ids):\n",
        "  # --- print info\n",
        "  # print(40*\"=\" + str(index) + 40*\"=\")\n",
        "  # print(index)\n",
        "\n",
        "  # --- find name of id faces folder\n",
        "  id_str = str(folders[id])\n",
        "\n",
        "  # --- find list of faces in this folder\n",
        "  number_faces = os.listdir(\"./CASIA-WebFace/\"+id_str)\n",
        "\n",
        "  # --- Get two Random number for Anchor and Positive\n",
        "  while(True):\n",
        "    two_random = np.uint32(np.round(np.random.rand(2) * (len(number_faces)-1))) \n",
        "    if (two_random[0] != two_random[1]):\n",
        "      break\n",
        "\n",
        "  # --- Make Anchor and Positive image\n",
        "  Anchor   = str(number_faces[two_random[0]])\n",
        "  Positive = str(number_faces[two_random[1]])\n",
        "\n",
        "  # --- Make Negative image\n",
        "  while(True):\n",
        "    neg_id = np.uint32(np.round(np.random.rand(1) * (NumberID-1)))\n",
        "    if (neg_id != id):\n",
        "      break\n",
        "  # --- number of images in negative Folder\n",
        "  neg_id_str   = str(folders[neg_id[0]])\n",
        "  number_faces = os.listdir(\"./CASIA-WebFace/\"+neg_id_str)\n",
        "  one_random   = np.uint32(np.round(np.random.rand(1) * (len(number_faces)-1))) \n",
        "  Negative     = str(number_faces[one_random[0]])\n",
        "  \n",
        "  # --- insert Anchor, Positive and Negative image path to TripletList\n",
        "  TempList = [\"\",\"\",\"\"]\n",
        "  TempList[0] =  id_str + \"/\" + Anchor\n",
        "  TempList[1] =  id_str + \"/\" + Positive\n",
        "  TempList[2] =  neg_id_str + \"/\" + Negative\n",
        "  TripletList.append(TempList)\n",
        "  # print(TripletList[-1])"
      ],
      "metadata": {
        "id": "7SBeEfrnzB1F"
      },
      "execution_count": null,
      "outputs": []
    }
  ],
  "metadata": {
    "accelerator": "GPU",
    "colab": {
      "collapsed_sections": [
        "5rvwhhKu09yf",
        "OczsCHs-1KlQ",
        "d87k5QG91Pxn",
        "v-pLtZni15ru",
        "MpIyf3wIVvrV"
      ],
      "machine_shape": "hm",
      "name": "ResNet+TripletLoss+CASIAFACE.ipynb",
      "provenance": []
    },
    "kernelspec": {
      "display_name": "Python 3",
      "name": "python3"
    },
    "language_info": {
      "name": "python"
    }
  },
  "nbformat": 4,
  "nbformat_minor": 0
}